{
  "nbformat": 4,
  "nbformat_minor": 0,
  "metadata": {
    "colab": {
      "name": "task 1 : Stock Market Prediction and Forecasting using Stacked LSTM.ipynb",
      "provenance": []
    },
    "kernelspec": {
      "name": "python3",
      "display_name": "Python 3"
    },
    "language_info": {
      "name": "python"
    }
  },
  "cells": [
    {
      "cell_type": "markdown",
      "source": [
        "# **Author : Pujayant Kumar**\n",
        "\n",
        "# **LGMVIP**\n",
        "\n",
        "#**Task-2: Stock Market Prediction and Forecasting using  Stacked LSTM**\n",
        "\n",
        "# Dataset:https://raw.githubusercontent.com/mwitiderrick/stockprice/master/NSE-TATAGLOBAL.csv"
      ],
      "metadata": {
        "id": "WTxuXKTbrTw0"
      }
    },
    {
      "cell_type": "markdown",
      "source": [
        "# **Libraries**"
      ],
      "metadata": {
        "id": "EsjbZSzNtkip"
      }
    },
    {
      "cell_type": "code",
      "execution_count": 26,
      "metadata": {
        "id": "nE_5P14LrGUx"
      },
      "outputs": [],
      "source": [
        "import pandas as pd\n",
        "import numpy as np\n",
        "import matplotlib.pyplot as plt\n",
        "import tensorflow as tf\n",
        "import math\n",
        "from sklearn.preprocessing import MinMaxScaler\n",
        "from tensorflow.keras.models import Sequential\n",
        "from tensorflow.keras.layers import Dense\n",
        "from tensorflow.keras.layers import LSTM\n",
        "from sklearn.metrics import mean_squared_error\n",
        "\n",
        "# Ignoring warnings\n",
        "import warnings\n",
        "warnings.filterwarnings(\"ignore\")"
      ]
    },
    {
      "cell_type": "markdown",
      "source": [
        "# **Reading the Dataset**"
      ],
      "metadata": {
        "id": "SANDfaVctil5"
      }
    },
    {
      "cell_type": "code",
      "source": [
        "data_set = pd.read_csv('/content/NSE-TATAGLOBAL.csv')\n",
        "data_set"
      ],
      "metadata": {
        "colab": {
          "base_uri": "https://localhost:8080/",
          "height": 655
        },
        "id": "Mx_2KIcarktC",
        "outputId": "0af02a3a-c963-4071-e340-5bb9ca11254a"
      },
      "execution_count": 2,
      "outputs": [
        {
          "output_type": "execute_result",
          "data": {
            "text/html": [
              "\n",
              "  <div id=\"df-21894729-0d10-4940-9d94-8ebb6f4e2a34\">\n",
              "    <div class=\"colab-df-container\">\n",
              "      <div>\n",
              "<style scoped>\n",
              "    .dataframe tbody tr th:only-of-type {\n",
              "        vertical-align: middle;\n",
              "    }\n",
              "\n",
              "    .dataframe tbody tr th {\n",
              "        vertical-align: top;\n",
              "    }\n",
              "\n",
              "    .dataframe thead th {\n",
              "        text-align: right;\n",
              "    }\n",
              "</style>\n",
              "<table border=\"1\" class=\"dataframe\">\n",
              "  <thead>\n",
              "    <tr style=\"text-align: right;\">\n",
              "      <th></th>\n",
              "      <th>Date</th>\n",
              "      <th>Open</th>\n",
              "      <th>High</th>\n",
              "      <th>Low</th>\n",
              "      <th>Last</th>\n",
              "      <th>Close</th>\n",
              "      <th>Total Trade Quantity</th>\n",
              "      <th>Turnover (Lacs)</th>\n",
              "    </tr>\n",
              "  </thead>\n",
              "  <tbody>\n",
              "    <tr>\n",
              "      <th>0</th>\n",
              "      <td>2018-09-28</td>\n",
              "      <td>234.05</td>\n",
              "      <td>235.95</td>\n",
              "      <td>230.20</td>\n",
              "      <td>233.50</td>\n",
              "      <td>233.75</td>\n",
              "      <td>3069914</td>\n",
              "      <td>7162.35</td>\n",
              "    </tr>\n",
              "    <tr>\n",
              "      <th>1</th>\n",
              "      <td>2018-09-27</td>\n",
              "      <td>234.55</td>\n",
              "      <td>236.80</td>\n",
              "      <td>231.10</td>\n",
              "      <td>233.80</td>\n",
              "      <td>233.25</td>\n",
              "      <td>5082859</td>\n",
              "      <td>11859.95</td>\n",
              "    </tr>\n",
              "    <tr>\n",
              "      <th>2</th>\n",
              "      <td>2018-09-26</td>\n",
              "      <td>240.00</td>\n",
              "      <td>240.00</td>\n",
              "      <td>232.50</td>\n",
              "      <td>235.00</td>\n",
              "      <td>234.25</td>\n",
              "      <td>2240909</td>\n",
              "      <td>5248.60</td>\n",
              "    </tr>\n",
              "    <tr>\n",
              "      <th>3</th>\n",
              "      <td>2018-09-25</td>\n",
              "      <td>233.30</td>\n",
              "      <td>236.75</td>\n",
              "      <td>232.00</td>\n",
              "      <td>236.25</td>\n",
              "      <td>236.10</td>\n",
              "      <td>2349368</td>\n",
              "      <td>5503.90</td>\n",
              "    </tr>\n",
              "    <tr>\n",
              "      <th>4</th>\n",
              "      <td>2018-09-24</td>\n",
              "      <td>233.55</td>\n",
              "      <td>239.20</td>\n",
              "      <td>230.75</td>\n",
              "      <td>234.00</td>\n",
              "      <td>233.30</td>\n",
              "      <td>3423509</td>\n",
              "      <td>7999.55</td>\n",
              "    </tr>\n",
              "    <tr>\n",
              "      <th>...</th>\n",
              "      <td>...</td>\n",
              "      <td>...</td>\n",
              "      <td>...</td>\n",
              "      <td>...</td>\n",
              "      <td>...</td>\n",
              "      <td>...</td>\n",
              "      <td>...</td>\n",
              "      <td>...</td>\n",
              "    </tr>\n",
              "    <tr>\n",
              "      <th>2030</th>\n",
              "      <td>2010-07-27</td>\n",
              "      <td>117.60</td>\n",
              "      <td>119.50</td>\n",
              "      <td>112.00</td>\n",
              "      <td>118.80</td>\n",
              "      <td>118.65</td>\n",
              "      <td>586100</td>\n",
              "      <td>694.98</td>\n",
              "    </tr>\n",
              "    <tr>\n",
              "      <th>2031</th>\n",
              "      <td>2010-07-26</td>\n",
              "      <td>120.10</td>\n",
              "      <td>121.00</td>\n",
              "      <td>117.10</td>\n",
              "      <td>117.10</td>\n",
              "      <td>117.60</td>\n",
              "      <td>658440</td>\n",
              "      <td>780.01</td>\n",
              "    </tr>\n",
              "    <tr>\n",
              "      <th>2032</th>\n",
              "      <td>2010-07-23</td>\n",
              "      <td>121.80</td>\n",
              "      <td>121.95</td>\n",
              "      <td>120.25</td>\n",
              "      <td>120.35</td>\n",
              "      <td>120.65</td>\n",
              "      <td>281312</td>\n",
              "      <td>340.31</td>\n",
              "    </tr>\n",
              "    <tr>\n",
              "      <th>2033</th>\n",
              "      <td>2010-07-22</td>\n",
              "      <td>120.30</td>\n",
              "      <td>122.00</td>\n",
              "      <td>120.25</td>\n",
              "      <td>120.75</td>\n",
              "      <td>120.90</td>\n",
              "      <td>293312</td>\n",
              "      <td>355.17</td>\n",
              "    </tr>\n",
              "    <tr>\n",
              "      <th>2034</th>\n",
              "      <td>2010-07-21</td>\n",
              "      <td>122.10</td>\n",
              "      <td>123.00</td>\n",
              "      <td>121.05</td>\n",
              "      <td>121.10</td>\n",
              "      <td>121.55</td>\n",
              "      <td>658666</td>\n",
              "      <td>803.56</td>\n",
              "    </tr>\n",
              "  </tbody>\n",
              "</table>\n",
              "<p>2035 rows × 8 columns</p>\n",
              "</div>\n",
              "      <button class=\"colab-df-convert\" onclick=\"convertToInteractive('df-21894729-0d10-4940-9d94-8ebb6f4e2a34')\"\n",
              "              title=\"Convert this dataframe to an interactive table.\"\n",
              "              style=\"display:none;\">\n",
              "        \n",
              "  <svg xmlns=\"http://www.w3.org/2000/svg\" height=\"24px\"viewBox=\"0 0 24 24\"\n",
              "       width=\"24px\">\n",
              "    <path d=\"M0 0h24v24H0V0z\" fill=\"none\"/>\n",
              "    <path d=\"M18.56 5.44l.94 2.06.94-2.06 2.06-.94-2.06-.94-.94-2.06-.94 2.06-2.06.94zm-11 1L8.5 8.5l.94-2.06 2.06-.94-2.06-.94L8.5 2.5l-.94 2.06-2.06.94zm10 10l.94 2.06.94-2.06 2.06-.94-2.06-.94-.94-2.06-.94 2.06-2.06.94z\"/><path d=\"M17.41 7.96l-1.37-1.37c-.4-.4-.92-.59-1.43-.59-.52 0-1.04.2-1.43.59L10.3 9.45l-7.72 7.72c-.78.78-.78 2.05 0 2.83L4 21.41c.39.39.9.59 1.41.59.51 0 1.02-.2 1.41-.59l7.78-7.78 2.81-2.81c.8-.78.8-2.07 0-2.86zM5.41 20L4 18.59l7.72-7.72 1.47 1.35L5.41 20z\"/>\n",
              "  </svg>\n",
              "      </button>\n",
              "      \n",
              "  <style>\n",
              "    .colab-df-container {\n",
              "      display:flex;\n",
              "      flex-wrap:wrap;\n",
              "      gap: 12px;\n",
              "    }\n",
              "\n",
              "    .colab-df-convert {\n",
              "      background-color: #E8F0FE;\n",
              "      border: none;\n",
              "      border-radius: 50%;\n",
              "      cursor: pointer;\n",
              "      display: none;\n",
              "      fill: #1967D2;\n",
              "      height: 32px;\n",
              "      padding: 0 0 0 0;\n",
              "      width: 32px;\n",
              "    }\n",
              "\n",
              "    .colab-df-convert:hover {\n",
              "      background-color: #E2EBFA;\n",
              "      box-shadow: 0px 1px 2px rgba(60, 64, 67, 0.3), 0px 1px 3px 1px rgba(60, 64, 67, 0.15);\n",
              "      fill: #174EA6;\n",
              "    }\n",
              "\n",
              "    [theme=dark] .colab-df-convert {\n",
              "      background-color: #3B4455;\n",
              "      fill: #D2E3FC;\n",
              "    }\n",
              "\n",
              "    [theme=dark] .colab-df-convert:hover {\n",
              "      background-color: #434B5C;\n",
              "      box-shadow: 0px 1px 3px 1px rgba(0, 0, 0, 0.15);\n",
              "      filter: drop-shadow(0px 1px 2px rgba(0, 0, 0, 0.3));\n",
              "      fill: #FFFFFF;\n",
              "    }\n",
              "  </style>\n",
              "\n",
              "      <script>\n",
              "        const buttonEl =\n",
              "          document.querySelector('#df-21894729-0d10-4940-9d94-8ebb6f4e2a34 button.colab-df-convert');\n",
              "        buttonEl.style.display =\n",
              "          google.colab.kernel.accessAllowed ? 'block' : 'none';\n",
              "\n",
              "        async function convertToInteractive(key) {\n",
              "          const element = document.querySelector('#df-21894729-0d10-4940-9d94-8ebb6f4e2a34');\n",
              "          const dataTable =\n",
              "            await google.colab.kernel.invokeFunction('convertToInteractive',\n",
              "                                                     [key], {});\n",
              "          if (!dataTable) return;\n",
              "\n",
              "          const docLinkHtml = 'Like what you see? Visit the ' +\n",
              "            '<a target=\"_blank\" href=https://colab.research.google.com/notebooks/data_table.ipynb>data table notebook</a>'\n",
              "            + ' to learn more about interactive tables.';\n",
              "          element.innerHTML = '';\n",
              "          dataTable['output_type'] = 'display_data';\n",
              "          await google.colab.output.renderOutput(dataTable, element);\n",
              "          const docLink = document.createElement('div');\n",
              "          docLink.innerHTML = docLinkHtml;\n",
              "          element.appendChild(docLink);\n",
              "        }\n",
              "      </script>\n",
              "    </div>\n",
              "  </div>\n",
              "  "
            ],
            "text/plain": [
              "            Date    Open    High  ...   Close  Total Trade Quantity  Turnover (Lacs)\n",
              "0     2018-09-28  234.05  235.95  ...  233.75               3069914          7162.35\n",
              "1     2018-09-27  234.55  236.80  ...  233.25               5082859         11859.95\n",
              "2     2018-09-26  240.00  240.00  ...  234.25               2240909          5248.60\n",
              "3     2018-09-25  233.30  236.75  ...  236.10               2349368          5503.90\n",
              "4     2018-09-24  233.55  239.20  ...  233.30               3423509          7999.55\n",
              "...          ...     ...     ...  ...     ...                   ...              ...\n",
              "2030  2010-07-27  117.60  119.50  ...  118.65                586100           694.98\n",
              "2031  2010-07-26  120.10  121.00  ...  117.60                658440           780.01\n",
              "2032  2010-07-23  121.80  121.95  ...  120.65                281312           340.31\n",
              "2033  2010-07-22  120.30  122.00  ...  120.90                293312           355.17\n",
              "2034  2010-07-21  122.10  123.00  ...  121.55                658666           803.56\n",
              "\n",
              "[2035 rows x 8 columns]"
            ]
          },
          "metadata": {},
          "execution_count": 2
        }
      ]
    },
    {
      "cell_type": "markdown",
      "source": [
        "# **Exploring Data and Making required changes for better understanding**"
      ],
      "metadata": {
        "id": "odODvpNstgxf"
      }
    },
    {
      "cell_type": "code",
      "source": [
        "data_set.isnull().sum()\n",
        "# No null values so we can proceed"
      ],
      "metadata": {
        "colab": {
          "base_uri": "https://localhost:8080/"
        },
        "id": "_rw0M2Nqr2hF",
        "outputId": "bbafb518-42eb-4c23-f9a0-e24a138a402f"
      },
      "execution_count": 3,
      "outputs": [
        {
          "output_type": "execute_result",
          "data": {
            "text/plain": [
              "Date                    0\n",
              "Open                    0\n",
              "High                    0\n",
              "Low                     0\n",
              "Last                    0\n",
              "Close                   0\n",
              "Total Trade Quantity    0\n",
              "Turnover (Lacs)         0\n",
              "dtype: int64"
            ]
          },
          "metadata": {},
          "execution_count": 3
        }
      ]
    },
    {
      "cell_type": "code",
      "source": [
        "data_set['Date'] = pd.to_datetime(data_set['Date'])"
      ],
      "metadata": {
        "id": "YnEF7s-Cr4vV"
      },
      "execution_count": 4,
      "outputs": []
    },
    {
      "cell_type": "code",
      "source": [
        "df = data_set.sort_values('Date')\n",
        "df.head()\n"
      ],
      "metadata": {
        "colab": {
          "base_uri": "https://localhost:8080/",
          "height": 215
        },
        "id": "AsdR76HGr6fE",
        "outputId": "7f185c79-d045-4777-b4aa-8722c6cc08df"
      },
      "execution_count": 5,
      "outputs": [
        {
          "output_type": "execute_result",
          "data": {
            "text/html": [
              "\n",
              "  <div id=\"df-f2372563-c091-426d-81c6-da15016ff2b0\">\n",
              "    <div class=\"colab-df-container\">\n",
              "      <div>\n",
              "<style scoped>\n",
              "    .dataframe tbody tr th:only-of-type {\n",
              "        vertical-align: middle;\n",
              "    }\n",
              "\n",
              "    .dataframe tbody tr th {\n",
              "        vertical-align: top;\n",
              "    }\n",
              "\n",
              "    .dataframe thead th {\n",
              "        text-align: right;\n",
              "    }\n",
              "</style>\n",
              "<table border=\"1\" class=\"dataframe\">\n",
              "  <thead>\n",
              "    <tr style=\"text-align: right;\">\n",
              "      <th></th>\n",
              "      <th>Date</th>\n",
              "      <th>Open</th>\n",
              "      <th>High</th>\n",
              "      <th>Low</th>\n",
              "      <th>Last</th>\n",
              "      <th>Close</th>\n",
              "      <th>Total Trade Quantity</th>\n",
              "      <th>Turnover (Lacs)</th>\n",
              "    </tr>\n",
              "  </thead>\n",
              "  <tbody>\n",
              "    <tr>\n",
              "      <th>2034</th>\n",
              "      <td>2010-07-21</td>\n",
              "      <td>122.1</td>\n",
              "      <td>123.00</td>\n",
              "      <td>121.05</td>\n",
              "      <td>121.10</td>\n",
              "      <td>121.55</td>\n",
              "      <td>658666</td>\n",
              "      <td>803.56</td>\n",
              "    </tr>\n",
              "    <tr>\n",
              "      <th>2033</th>\n",
              "      <td>2010-07-22</td>\n",
              "      <td>120.3</td>\n",
              "      <td>122.00</td>\n",
              "      <td>120.25</td>\n",
              "      <td>120.75</td>\n",
              "      <td>120.90</td>\n",
              "      <td>293312</td>\n",
              "      <td>355.17</td>\n",
              "    </tr>\n",
              "    <tr>\n",
              "      <th>2032</th>\n",
              "      <td>2010-07-23</td>\n",
              "      <td>121.8</td>\n",
              "      <td>121.95</td>\n",
              "      <td>120.25</td>\n",
              "      <td>120.35</td>\n",
              "      <td>120.65</td>\n",
              "      <td>281312</td>\n",
              "      <td>340.31</td>\n",
              "    </tr>\n",
              "    <tr>\n",
              "      <th>2031</th>\n",
              "      <td>2010-07-26</td>\n",
              "      <td>120.1</td>\n",
              "      <td>121.00</td>\n",
              "      <td>117.10</td>\n",
              "      <td>117.10</td>\n",
              "      <td>117.60</td>\n",
              "      <td>658440</td>\n",
              "      <td>780.01</td>\n",
              "    </tr>\n",
              "    <tr>\n",
              "      <th>2030</th>\n",
              "      <td>2010-07-27</td>\n",
              "      <td>117.6</td>\n",
              "      <td>119.50</td>\n",
              "      <td>112.00</td>\n",
              "      <td>118.80</td>\n",
              "      <td>118.65</td>\n",
              "      <td>586100</td>\n",
              "      <td>694.98</td>\n",
              "    </tr>\n",
              "  </tbody>\n",
              "</table>\n",
              "</div>\n",
              "      <button class=\"colab-df-convert\" onclick=\"convertToInteractive('df-f2372563-c091-426d-81c6-da15016ff2b0')\"\n",
              "              title=\"Convert this dataframe to an interactive table.\"\n",
              "              style=\"display:none;\">\n",
              "        \n",
              "  <svg xmlns=\"http://www.w3.org/2000/svg\" height=\"24px\"viewBox=\"0 0 24 24\"\n",
              "       width=\"24px\">\n",
              "    <path d=\"M0 0h24v24H0V0z\" fill=\"none\"/>\n",
              "    <path d=\"M18.56 5.44l.94 2.06.94-2.06 2.06-.94-2.06-.94-.94-2.06-.94 2.06-2.06.94zm-11 1L8.5 8.5l.94-2.06 2.06-.94-2.06-.94L8.5 2.5l-.94 2.06-2.06.94zm10 10l.94 2.06.94-2.06 2.06-.94-2.06-.94-.94-2.06-.94 2.06-2.06.94z\"/><path d=\"M17.41 7.96l-1.37-1.37c-.4-.4-.92-.59-1.43-.59-.52 0-1.04.2-1.43.59L10.3 9.45l-7.72 7.72c-.78.78-.78 2.05 0 2.83L4 21.41c.39.39.9.59 1.41.59.51 0 1.02-.2 1.41-.59l7.78-7.78 2.81-2.81c.8-.78.8-2.07 0-2.86zM5.41 20L4 18.59l7.72-7.72 1.47 1.35L5.41 20z\"/>\n",
              "  </svg>\n",
              "      </button>\n",
              "      \n",
              "  <style>\n",
              "    .colab-df-container {\n",
              "      display:flex;\n",
              "      flex-wrap:wrap;\n",
              "      gap: 12px;\n",
              "    }\n",
              "\n",
              "    .colab-df-convert {\n",
              "      background-color: #E8F0FE;\n",
              "      border: none;\n",
              "      border-radius: 50%;\n",
              "      cursor: pointer;\n",
              "      display: none;\n",
              "      fill: #1967D2;\n",
              "      height: 32px;\n",
              "      padding: 0 0 0 0;\n",
              "      width: 32px;\n",
              "    }\n",
              "\n",
              "    .colab-df-convert:hover {\n",
              "      background-color: #E2EBFA;\n",
              "      box-shadow: 0px 1px 2px rgba(60, 64, 67, 0.3), 0px 1px 3px 1px rgba(60, 64, 67, 0.15);\n",
              "      fill: #174EA6;\n",
              "    }\n",
              "\n",
              "    [theme=dark] .colab-df-convert {\n",
              "      background-color: #3B4455;\n",
              "      fill: #D2E3FC;\n",
              "    }\n",
              "\n",
              "    [theme=dark] .colab-df-convert:hover {\n",
              "      background-color: #434B5C;\n",
              "      box-shadow: 0px 1px 3px 1px rgba(0, 0, 0, 0.15);\n",
              "      filter: drop-shadow(0px 1px 2px rgba(0, 0, 0, 0.3));\n",
              "      fill: #FFFFFF;\n",
              "    }\n",
              "  </style>\n",
              "\n",
              "      <script>\n",
              "        const buttonEl =\n",
              "          document.querySelector('#df-f2372563-c091-426d-81c6-da15016ff2b0 button.colab-df-convert');\n",
              "        buttonEl.style.display =\n",
              "          google.colab.kernel.accessAllowed ? 'block' : 'none';\n",
              "\n",
              "        async function convertToInteractive(key) {\n",
              "          const element = document.querySelector('#df-f2372563-c091-426d-81c6-da15016ff2b0');\n",
              "          const dataTable =\n",
              "            await google.colab.kernel.invokeFunction('convertToInteractive',\n",
              "                                                     [key], {});\n",
              "          if (!dataTable) return;\n",
              "\n",
              "          const docLinkHtml = 'Like what you see? Visit the ' +\n",
              "            '<a target=\"_blank\" href=https://colab.research.google.com/notebooks/data_table.ipynb>data table notebook</a>'\n",
              "            + ' to learn more about interactive tables.';\n",
              "          element.innerHTML = '';\n",
              "          dataTable['output_type'] = 'display_data';\n",
              "          await google.colab.output.renderOutput(dataTable, element);\n",
              "          const docLink = document.createElement('div');\n",
              "          docLink.innerHTML = docLinkHtml;\n",
              "          element.appendChild(docLink);\n",
              "        }\n",
              "      </script>\n",
              "    </div>\n",
              "  </div>\n",
              "  "
            ],
            "text/plain": [
              "           Date   Open    High  ...   Close  Total Trade Quantity  Turnover (Lacs)\n",
              "2034 2010-07-21  122.1  123.00  ...  121.55                658666           803.56\n",
              "2033 2010-07-22  120.3  122.00  ...  120.90                293312           355.17\n",
              "2032 2010-07-23  121.8  121.95  ...  120.65                281312           340.31\n",
              "2031 2010-07-26  120.1  121.00  ...  117.60                658440           780.01\n",
              "2030 2010-07-27  117.6  119.50  ...  118.65                586100           694.98\n",
              "\n",
              "[5 rows x 8 columns]"
            ]
          },
          "metadata": {},
          "execution_count": 5
        }
      ]
    },
    {
      "cell_type": "code",
      "source": [
        "df.reset_index(inplace=True)"
      ],
      "metadata": {
        "id": "hEjnlN0Fr73K"
      },
      "execution_count": 6,
      "outputs": []
    },
    {
      "cell_type": "markdown",
      "source": [
        "# **Visualizing the Data**"
      ],
      "metadata": {
        "id": "5knym0xqteWm"
      }
    },
    {
      "cell_type": "code",
      "source": [
        "plt.plot(df['Close'])"
      ],
      "metadata": {
        "colab": {
          "base_uri": "https://localhost:8080/",
          "height": 282
        },
        "id": "8YhnW0iOsAf7",
        "outputId": "b8573443-49c6-4a05-a1e4-9bb1cbbaa3a3"
      },
      "execution_count": 7,
      "outputs": [
        {
          "output_type": "execute_result",
          "data": {
            "text/plain": [
              "[<matplotlib.lines.Line2D at 0x7f25b54db490>]"
            ]
          },
          "metadata": {},
          "execution_count": 7
        },
        {
          "output_type": "display_data",
          "data": {
            "image/png": "[encoded data removed]",
            "text/plain": [
              "<Figure size 432x288 with 1 Axes>"
            ]
          },
          "metadata": {
            "needs_background": "light"
          }
        }
      ]
    },
    {
      "cell_type": "code",
      "source": [
        "df_close = df['Close']\n",
        "df_close"
      ],
      "metadata": {
        "colab": {
          "base_uri": "https://localhost:8080/"
        },
        "id": "HlhLt672sCJt",
        "outputId": "df0e7cde-2c6d-4641-aa32-11939043f6c7"
      },
      "execution_count": 8,
      "outputs": [
        {
          "output_type": "execute_result",
          "data": {
            "text/plain": [
              "0       121.55\n",
              "1       120.90\n",
              "2       120.65\n",
              "3       117.60\n",
              "4       118.65\n",
              "         ...  \n",
              "2030    233.30\n",
              "2031    236.10\n",
              "2032    234.25\n",
              "2033    233.25\n",
              "2034    233.75\n",
              "Name: Close, Length: 2035, dtype: float64"
            ]
          },
          "metadata": {},
          "execution_count": 8
        }
      ]
    },
    {
      "cell_type": "markdown",
      "source": [
        "# **Feature Scaling**"
      ],
      "metadata": {
        "id": "FSHw8b93tcPx"
      }
    },
    {
      "cell_type": "code",
      "source": [
        "scaler = MinMaxScaler(feature_range=(0,1))"
      ],
      "metadata": {
        "id": "yO8TIYDSsDLe"
      },
      "execution_count": 9,
      "outputs": []
    },
    {
      "cell_type": "code",
      "source": [
        "df_close = scaler.fit_transform(np.array(df_close).reshape(-1,1))\n",
        "df_close"
      ],
      "metadata": {
        "colab": {
          "base_uri": "https://localhost:8080/"
        },
        "id": "NhkS4qDcsEvo",
        "outputId": "70b07f56-a62b-4b45-ed4c-4b25c0502b17"
      },
      "execution_count": 10,
      "outputs": [
        {
          "output_type": "execute_result",
          "data": {
            "text/plain": [
              "array([[0.16584967],\n",
              "       [0.16319444],\n",
              "       [0.1621732 ],\n",
              "       ...,\n",
              "       [0.62622549],\n",
              "       [0.62214052],\n",
              "       [0.62418301]])"
            ]
          },
          "metadata": {},
          "execution_count": 10
        }
      ]
    },
    {
      "cell_type": "markdown",
      "source": [
        "# **Splitting the data into training and test sets**"
      ],
      "metadata": {
        "id": "PjmD3L5ItaIk"
      }
    },
    {
      "cell_type": "code",
      "source": [
        "training_size = int(len(df_close)*0.70)\n",
        "test_size = len(df_close) - training_size\n",
        "train, test = df_close[0: training_size,:], df_close[training_size : len(df_close),:1]"
      ],
      "metadata": {
        "id": "rhKqqUwUsGSw"
      },
      "execution_count": 11,
      "outputs": []
    },
    {
      "cell_type": "code",
      "source": [
        "# Let us convert the array values previously calculated into a matrix\n",
        "def create_mat(ds, time_step = 1):\n",
        "    dataX, dataY = [],[]\n",
        "    for i in range(len(ds)-time_step-1):\n",
        "        a = ds[i:(i+time_step),0]\n",
        "        dataX.append(a)\n",
        "        dataY.append(ds[i + time_step, 0])\n",
        "    return np.array(dataX), np.array(dataY)  "
      ],
      "metadata": {
        "id": "zcDHxs1vsIOH"
      },
      "execution_count": 12,
      "outputs": []
    },
    {
      "cell_type": "code",
      "source": [
        "time_step = 100\n",
        "X_train, y_train = create_mat(train, time_step)\n",
        "X_test, y_test = create_mat(test, time_step)"
      ],
      "metadata": {
        "id": "a62AJIlGsKVt"
      },
      "execution_count": 13,
      "outputs": []
    },
    {
      "cell_type": "code",
      "source": [
        "X_train.shape"
      ],
      "metadata": {
        "colab": {
          "base_uri": "https://localhost:8080/"
        },
        "id": "zLOhJAPGsML4",
        "outputId": "65d7618a-9cf3-42b3-d2f6-e9e0c2530495"
      },
      "execution_count": 14,
      "outputs": [
        {
          "output_type": "execute_result",
          "data": {
            "text/plain": [
              "(1323, 100)"
            ]
          },
          "metadata": {},
          "execution_count": 14
        }
      ]
    },
    {
      "cell_type": "code",
      "source": [
        "y_train.shape"
      ],
      "metadata": {
        "colab": {
          "base_uri": "https://localhost:8080/"
        },
        "id": "KBMgXcHzsNV4",
        "outputId": "12e71748-faf1-4466-9079-7d7fa989c351"
      },
      "execution_count": 15,
      "outputs": [
        {
          "output_type": "execute_result",
          "data": {
            "text/plain": [
              "(1323,)"
            ]
          },
          "metadata": {},
          "execution_count": 15
        }
      ]
    },
    {
      "cell_type": "code",
      "source": [
        "X_test.shape"
      ],
      "metadata": {
        "colab": {
          "base_uri": "https://localhost:8080/"
        },
        "id": "srtzFFbDsOuO",
        "outputId": "e6dcbf01-92a2-4d6e-ba03-26b51776e423"
      },
      "execution_count": 16,
      "outputs": [
        {
          "output_type": "execute_result",
          "data": {
            "text/plain": [
              "(510, 100)"
            ]
          },
          "metadata": {},
          "execution_count": 16
        }
      ]
    },
    {
      "cell_type": "code",
      "source": [
        "y_test.shape"
      ],
      "metadata": {
        "colab": {
          "base_uri": "https://localhost:8080/"
        },
        "id": "jIz3WEFJsQJt",
        "outputId": "79bf5880-bb62-4445-f8b6-fe749de3172c"
      },
      "execution_count": 17,
      "outputs": [
        {
          "output_type": "execute_result",
          "data": {
            "text/plain": [
              "(510,)"
            ]
          },
          "metadata": {},
          "execution_count": 17
        }
      ]
    },
    {
      "cell_type": "code",
      "source": [
        "X_train = X_train.reshape(X_train.shape[0], X_train.shape[1],1)\n",
        "X_test = X_test.reshape(X_test.shape[0], X_test.shape[1], 1)"
      ],
      "metadata": {
        "id": "xcNQmVJVsRgm"
      },
      "execution_count": 18,
      "outputs": []
    },
    {
      "cell_type": "markdown",
      "source": [
        "# **Building the Model**"
      ],
      "metadata": {
        "id": "N2S5Ksn4tXTZ"
      }
    },
    {
      "cell_type": "code",
      "source": [
        "model = Sequential()\n",
        "model.add(LSTM(50,return_sequences=True,input_shape=(100,1)))\n",
        "model.add(LSTM(50,return_sequences=True))\n",
        "model.add(LSTM(50))\n",
        "model.add(Dense(1))\n",
        "model.compile(loss='mean_squared_error',optimizer='adam')\n",
        "model.summary()"
      ],
      "metadata": {
        "colab": {
          "base_uri": "https://localhost:8080/"
        },
        "id": "FGbuVV-bsTLR",
        "outputId": "8d23ae15-bfc9-41cc-ef07-03ef69a11d1f"
      },
      "execution_count": 20,
      "outputs": [
        {
          "output_type": "stream",
          "name": "stdout",
          "text": [
            "Model: \"sequential\"\n",
            "_________________________________________________________________\n",
            " Layer (type)                Output Shape              Param #   \n",
            "=================================================================\n",
            " lstm (LSTM)                 (None, 100, 50)           10400     \n",
            "                                                                 \n",
            " lstm_1 (LSTM)               (None, 100, 50)           20200     \n",
            "                                                                 \n",
            " lstm_2 (LSTM)               (None, 50)                20200     \n",
            "                                                                 \n",
            " dense (Dense)               (None, 1)                 51        \n",
            "                                                                 \n",
            "=================================================================\n",
            "Total params: 50,851\n",
            "Trainable params: 50,851\n",
            "Non-trainable params: 0\n",
            "_________________________________________________________________\n"
          ]
        }
      ]
    },
    {
      "cell_type": "code",
      "source": [
        "model.fit(X_train, y_train, validation_split=0.1, epochs=60, batch_size=64, verbose = 1)"
      ],
      "metadata": {
        "colab": {
          "base_uri": "https://localhost:8080/"
        },
        "id": "aCmYFGwcsYWS",
        "outputId": "a874ccca-4e5a-4b38-ff47-747efbdedbd4"
      },
      "execution_count": 21,
      "outputs": [
        {
          "output_type": "stream",
          "name": "stdout",
          "text": [
            "Epoch 1/60\n",
            "19/19 [==============================] - 19s 298ms/step - loss: 0.0090 - val_loss: 0.0028\n",
            "Epoch 2/60\n",
            "19/19 [==============================] - 3s 178ms/step - loss: 0.0018 - val_loss: 0.0013\n",
            "Epoch 3/60\n",
            "19/19 [==============================] - 3s 177ms/step - loss: 9.4346e-04 - val_loss: 0.0012\n",
            "Epoch 4/60\n",
            "19/19 [==============================] - 3s 177ms/step - loss: 8.3960e-04 - val_loss: 0.0011\n",
            "Epoch 5/60\n",
            "19/19 [==============================] - 3s 178ms/step - loss: 8.1421e-04 - val_loss: 0.0011\n",
            "Epoch 6/60\n",
            "19/19 [==============================] - 3s 175ms/step - loss: 8.3204e-04 - val_loss: 0.0011\n",
            "Epoch 7/60\n",
            "19/19 [==============================] - 3s 177ms/step - loss: 7.7093e-04 - val_loss: 9.9613e-04\n",
            "Epoch 8/60\n",
            "19/19 [==============================] - 3s 180ms/step - loss: 7.4329e-04 - val_loss: 9.3602e-04\n",
            "Epoch 9/60\n",
            "19/19 [==============================] - 3s 177ms/step - loss: 7.5183e-04 - val_loss: 9.6440e-04\n",
            "Epoch 10/60\n",
            "19/19 [==============================] - 3s 177ms/step - loss: 7.0547e-04 - val_loss: 8.6005e-04\n",
            "Epoch 11/60\n",
            "19/19 [==============================] - 3s 178ms/step - loss: 7.3092e-04 - val_loss: 8.8780e-04\n",
            "Epoch 12/60\n",
            "19/19 [==============================] - 3s 180ms/step - loss: 7.0175e-04 - val_loss: 7.8034e-04\n",
            "Epoch 13/60\n",
            "19/19 [==============================] - 3s 182ms/step - loss: 6.5156e-04 - val_loss: 7.5019e-04\n",
            "Epoch 14/60\n",
            "19/19 [==============================] - 4s 206ms/step - loss: 6.0820e-04 - val_loss: 7.3153e-04\n",
            "Epoch 15/60\n",
            "19/19 [==============================] - 3s 178ms/step - loss: 5.9295e-04 - val_loss: 6.7069e-04\n",
            "Epoch 16/60\n",
            "19/19 [==============================] - 3s 178ms/step - loss: 5.6962e-04 - val_loss: 6.5671e-04\n",
            "Epoch 17/60\n",
            "19/19 [==============================] - 3s 184ms/step - loss: 6.1665e-04 - val_loss: 7.8403e-04\n",
            "Epoch 18/60\n",
            "19/19 [==============================] - 3s 182ms/step - loss: 5.9417e-04 - val_loss: 5.9642e-04\n",
            "Epoch 19/60\n",
            "19/19 [==============================] - 3s 179ms/step - loss: 5.5628e-04 - val_loss: 5.9105e-04\n",
            "Epoch 20/60\n",
            "19/19 [==============================] - 3s 180ms/step - loss: 5.3842e-04 - val_loss: 6.0982e-04\n",
            "Epoch 21/60\n",
            "19/19 [==============================] - 3s 178ms/step - loss: 5.3187e-04 - val_loss: 5.7542e-04\n",
            "Epoch 22/60\n",
            "19/19 [==============================] - 5s 261ms/step - loss: 5.2549e-04 - val_loss: 5.3716e-04\n",
            "Epoch 23/60\n",
            "19/19 [==============================] - 3s 180ms/step - loss: 5.0958e-04 - val_loss: 5.1641e-04\n",
            "Epoch 24/60\n",
            "19/19 [==============================] - 3s 178ms/step - loss: 4.8311e-04 - val_loss: 5.4549e-04\n",
            "Epoch 25/60\n",
            "19/19 [==============================] - 3s 179ms/step - loss: 4.7661e-04 - val_loss: 5.7600e-04\n",
            "Epoch 26/60\n",
            "19/19 [==============================] - 3s 180ms/step - loss: 4.7457e-04 - val_loss: 5.3510e-04\n",
            "Epoch 27/60\n",
            "19/19 [==============================] - 3s 178ms/step - loss: 4.5414e-04 - val_loss: 5.0647e-04\n",
            "Epoch 28/60\n",
            "19/19 [==============================] - 3s 178ms/step - loss: 4.6000e-04 - val_loss: 6.7286e-04\n",
            "Epoch 29/60\n",
            "19/19 [==============================] - 3s 180ms/step - loss: 4.6026e-04 - val_loss: 4.5706e-04\n",
            "Epoch 30/60\n",
            "19/19 [==============================] - 3s 179ms/step - loss: 4.2467e-04 - val_loss: 4.3262e-04\n",
            "Epoch 31/60\n",
            "19/19 [==============================] - 3s 180ms/step - loss: 4.2416e-04 - val_loss: 4.6225e-04\n",
            "Epoch 32/60\n",
            "19/19 [==============================] - 3s 181ms/step - loss: 4.2524e-04 - val_loss: 4.0764e-04\n",
            "Epoch 33/60\n",
            "19/19 [==============================] - 3s 178ms/step - loss: 4.0170e-04 - val_loss: 4.0693e-04\n",
            "Epoch 34/60\n",
            "19/19 [==============================] - 3s 180ms/step - loss: 3.9621e-04 - val_loss: 3.7274e-04\n",
            "Epoch 35/60\n",
            "19/19 [==============================] - 3s 179ms/step - loss: 3.9825e-04 - val_loss: 3.6095e-04\n",
            "Epoch 36/60\n",
            "19/19 [==============================] - 3s 180ms/step - loss: 3.7510e-04 - val_loss: 3.8590e-04\n",
            "Epoch 37/60\n",
            "19/19 [==============================] - 3s 179ms/step - loss: 3.7496e-04 - val_loss: 3.8562e-04\n",
            "Epoch 38/60\n",
            "19/19 [==============================] - 4s 231ms/step - loss: 3.8323e-04 - val_loss: 3.3540e-04\n",
            "Epoch 39/60\n",
            "19/19 [==============================] - 6s 310ms/step - loss: 3.8666e-04 - val_loss: 3.1195e-04\n",
            "Epoch 40/60\n",
            "19/19 [==============================] - 5s 281ms/step - loss: 3.6457e-04 - val_loss: 3.1598e-04\n",
            "Epoch 41/60\n",
            "19/19 [==============================] - 7s 369ms/step - loss: 3.2862e-04 - val_loss: 3.4766e-04\n",
            "Epoch 42/60\n",
            "19/19 [==============================] - 7s 380ms/step - loss: 3.5196e-04 - val_loss: 2.9061e-04\n",
            "Epoch 43/60\n",
            "19/19 [==============================] - 4s 212ms/step - loss: 3.1397e-04 - val_loss: 2.9908e-04\n",
            "Epoch 44/60\n",
            "19/19 [==============================] - 5s 262ms/step - loss: 3.2867e-04 - val_loss: 2.6725e-04\n",
            "Epoch 45/60\n",
            "19/19 [==============================] - 5s 270ms/step - loss: 3.0760e-04 - val_loss: 3.0134e-04\n",
            "Epoch 46/60\n",
            "19/19 [==============================] - 5s 238ms/step - loss: 2.8989e-04 - val_loss: 2.6357e-04\n",
            "Epoch 47/60\n",
            "19/19 [==============================] - 3s 183ms/step - loss: 2.7184e-04 - val_loss: 3.3650e-04\n",
            "Epoch 48/60\n",
            "19/19 [==============================] - 3s 181ms/step - loss: 2.9818e-04 - val_loss: 2.6661e-04\n",
            "Epoch 49/60\n",
            "19/19 [==============================] - 3s 182ms/step - loss: 2.7900e-04 - val_loss: 3.3135e-04\n",
            "Epoch 50/60\n",
            "19/19 [==============================] - 5s 287ms/step - loss: 2.6953e-04 - val_loss: 2.4982e-04\n",
            "Epoch 51/60\n",
            "19/19 [==============================] - 5s 252ms/step - loss: 2.5894e-04 - val_loss: 2.7943e-04\n",
            "Epoch 52/60\n",
            "19/19 [==============================] - 3s 177ms/step - loss: 2.4797e-04 - val_loss: 2.0890e-04\n",
            "Epoch 53/60\n",
            "19/19 [==============================] - 3s 178ms/step - loss: 2.6626e-04 - val_loss: 2.1003e-04\n",
            "Epoch 54/60\n",
            "19/19 [==============================] - 5s 275ms/step - loss: 2.5718e-04 - val_loss: 2.8369e-04\n",
            "Epoch 55/60\n",
            "19/19 [==============================] - 4s 205ms/step - loss: 2.8332e-04 - val_loss: 2.2590e-04\n",
            "Epoch 56/60\n",
            "19/19 [==============================] - 3s 179ms/step - loss: 2.3209e-04 - val_loss: 1.9611e-04\n",
            "Epoch 57/60\n",
            "19/19 [==============================] - 3s 177ms/step - loss: 2.1640e-04 - val_loss: 2.6788e-04\n",
            "Epoch 58/60\n",
            "19/19 [==============================] - 3s 180ms/step - loss: 2.1883e-04 - val_loss: 1.8691e-04\n",
            "Epoch 59/60\n",
            "19/19 [==============================] - 3s 180ms/step - loss: 1.9982e-04 - val_loss: 1.7284e-04\n",
            "Epoch 60/60\n",
            "19/19 [==============================] - 3s 181ms/step - loss: 2.2663e-04 - val_loss: 1.9265e-04\n"
          ]
        },
        {
          "output_type": "execute_result",
          "data": {
            "text/plain": [
              "<keras.callbacks.History at 0x7f25b13ee490>"
            ]
          },
          "metadata": {},
          "execution_count": 21
        }
      ]
    },
    {
      "cell_type": "code",
      "source": [
        "predictions = model.predict(X_test)"
      ],
      "metadata": {
        "id": "TGmwtS4Zs-wi"
      },
      "execution_count": 22,
      "outputs": []
    },
    {
      "cell_type": "code",
      "source": [
        "# performing inverse transform on predictions\n",
        "inv_predictions = scaler.inverse_transform(predictions)"
      ],
      "metadata": {
        "id": "qP0cBtyGs_o-"
      },
      "execution_count": 23,
      "outputs": []
    },
    {
      "cell_type": "code",
      "source": [
        "inv_predictions"
      ],
      "metadata": {
        "colab": {
          "base_uri": "https://localhost:8080/"
        },
        "id": "g_2vO-tftBhT",
        "outputId": "dc91af74-43fe-41c3-a0e5-8bdf9ad7e6b7"
      },
      "execution_count": 24,
      "outputs": [
        {
          "output_type": "execute_result",
          "data": {
            "text/plain": [
              "array([[142.96567 ],\n",
              "       [143.09985 ],\n",
              "       [142.25821 ],\n",
              "       [139.64851 ],\n",
              "       [137.77875 ],\n",
              "       [137.33385 ],\n",
              "       [138.72545 ],\n",
              "       [140.52065 ],\n",
              "       [140.89502 ],\n",
              "       [140.11057 ],\n",
              "       [139.46222 ],\n",
              "       [140.57422 ],\n",
              "       [141.84518 ],\n",
              "       [143.63922 ],\n",
              "       [145.86247 ],\n",
              "       [144.09497 ],\n",
              "       [141.10666 ],\n",
              "       [140.33147 ],\n",
              "       [141.41127 ],\n",
              "       [146.7371  ],\n",
              "       [151.7591  ],\n",
              "       [153.79875 ],\n",
              "       [153.2668  ],\n",
              "       [150.61523 ],\n",
              "       [150.26636 ],\n",
              "       [150.98228 ],\n",
              "       [152.11426 ],\n",
              "       [153.82047 ],\n",
              "       [154.31688 ],\n",
              "       [153.7803  ],\n",
              "       [153.72208 ],\n",
              "       [152.73952 ],\n",
              "       [149.70975 ],\n",
              "       [144.04582 ],\n",
              "       [140.28159 ],\n",
              "       [139.55771 ],\n",
              "       [140.22868 ],\n",
              "       [139.56242 ],\n",
              "       [136.76422 ],\n",
              "       [132.48141 ],\n",
              "       [129.57722 ],\n",
              "       [128.64417 ],\n",
              "       [127.25419 ],\n",
              "       [126.506714],\n",
              "       [124.55472 ],\n",
              "       [121.774216],\n",
              "       [120.6642  ],\n",
              "       [120.42367 ],\n",
              "       [120.82069 ],\n",
              "       [120.12993 ],\n",
              "       [119.130646],\n",
              "       [118.50309 ],\n",
              "       [117.70773 ],\n",
              "       [117.7634  ],\n",
              "       [119.04746 ],\n",
              "       [120.92059 ],\n",
              "       [122.9135  ],\n",
              "       [123.77591 ],\n",
              "       [123.45054 ],\n",
              "       [123.19824 ],\n",
              "       [123.29764 ],\n",
              "       [123.319046],\n",
              "       [123.62572 ],\n",
              "       [124.09447 ],\n",
              "       [124.34899 ],\n",
              "       [124.35979 ],\n",
              "       [124.10072 ],\n",
              "       [124.2634  ],\n",
              "       [124.71033 ],\n",
              "       [125.13804 ],\n",
              "       [124.5295  ],\n",
              "       [123.47774 ],\n",
              "       [122.076965],\n",
              "       [120.80109 ],\n",
              "       [119.5659  ],\n",
              "       [119.5901  ],\n",
              "       [120.22278 ],\n",
              "       [121.2049  ],\n",
              "       [122.24748 ],\n",
              "       [123.36424 ],\n",
              "       [124.43833 ],\n",
              "       [125.1482  ],\n",
              "       [125.59589 ],\n",
              "       [125.65451 ],\n",
              "       [125.50978 ],\n",
              "       [125.277916],\n",
              "       [125.97123 ],\n",
              "       [126.476875],\n",
              "       [127.39535 ],\n",
              "       [128.19159 ],\n",
              "       [128.57094 ],\n",
              "       [128.88522 ],\n",
              "       [129.70729 ],\n",
              "       [129.47461 ],\n",
              "       [128.9024  ],\n",
              "       [128.68808 ],\n",
              "       [128.8545  ],\n",
              "       [129.40178 ],\n",
              "       [130.32437 ],\n",
              "       [130.67119 ],\n",
              "       [130.79413 ],\n",
              "       [133.11684 ],\n",
              "       [137.63719 ],\n",
              "       [142.05145 ],\n",
              "       [144.01044 ],\n",
              "       [145.0776  ],\n",
              "       [145.0207  ],\n",
              "       [144.48152 ],\n",
              "       [143.42169 ],\n",
              "       [142.28917 ],\n",
              "       [140.84703 ],\n",
              "       [140.2297  ],\n",
              "       [140.49826 ],\n",
              "       [141.57095 ],\n",
              "       [142.60654 ],\n",
              "       [142.53264 ],\n",
              "       [141.51364 ],\n",
              "       [140.38982 ],\n",
              "       [139.53539 ],\n",
              "       [141.01419 ],\n",
              "       [142.60521 ],\n",
              "       [143.88478 ],\n",
              "       [144.42888 ],\n",
              "       [144.19496 ],\n",
              "       [143.24419 ],\n",
              "       [142.14685 ],\n",
              "       [140.26761 ],\n",
              "       [139.3922  ],\n",
              "       [140.14136 ],\n",
              "       [142.74161 ],\n",
              "       [145.31241 ],\n",
              "       [147.07149 ],\n",
              "       [147.46756 ],\n",
              "       [146.03067 ],\n",
              "       [147.25998 ],\n",
              "       [150.11118 ],\n",
              "       [151.35593 ],\n",
              "       [151.34671 ],\n",
              "       [150.96837 ],\n",
              "       [150.68243 ],\n",
              "       [150.81972 ],\n",
              "       [151.66135 ],\n",
              "       [152.81882 ],\n",
              "       [153.7194  ],\n",
              "       [153.11307 ],\n",
              "       [151.99199 ],\n",
              "       [152.30977 ],\n",
              "       [152.93794 ],\n",
              "       [152.66551 ],\n",
              "       [151.44878 ],\n",
              "       [149.87128 ],\n",
              "       [149.69518 ],\n",
              "       [151.29546 ],\n",
              "       [152.73515 ],\n",
              "       [153.29582 ],\n",
              "       [153.02151 ],\n",
              "       [153.32642 ],\n",
              "       [153.46452 ],\n",
              "       [153.65042 ],\n",
              "       [155.5851  ],\n",
              "       [157.28792 ],\n",
              "       [157.36305 ],\n",
              "       [155.23521 ],\n",
              "       [153.13554 ],\n",
              "       [153.04306 ],\n",
              "       [154.54607 ],\n",
              "       [155.6053  ],\n",
              "       [155.03711 ],\n",
              "       [154.56328 ],\n",
              "       [154.73203 ],\n",
              "       [154.5967  ],\n",
              "       [152.09108 ],\n",
              "       [149.93575 ],\n",
              "       [148.83278 ],\n",
              "       [147.60092 ],\n",
              "       [145.38014 ],\n",
              "       [143.90625 ],\n",
              "       [145.07721 ],\n",
              "       [146.78957 ],\n",
              "       [147.59752 ],\n",
              "       [148.7464  ],\n",
              "       [151.01176 ],\n",
              "       [153.96988 ],\n",
              "       [155.96858 ],\n",
              "       [155.58841 ],\n",
              "       [155.01064 ],\n",
              "       [154.78914 ],\n",
              "       [154.85297 ],\n",
              "       [154.08601 ],\n",
              "       [154.7195  ],\n",
              "       [157.02702 ],\n",
              "       [159.40804 ],\n",
              "       [160.0923  ],\n",
              "       [158.6939  ],\n",
              "       [157.20343 ],\n",
              "       [156.80765 ],\n",
              "       [156.459   ],\n",
              "       [154.57132 ],\n",
              "       [151.03827 ],\n",
              "       [149.0283  ],\n",
              "       [148.94948 ],\n",
              "       [150.51367 ],\n",
              "       [152.37776 ],\n",
              "       [152.72401 ],\n",
              "       [154.18883 ],\n",
              "       [155.12627 ],\n",
              "       [156.7228  ],\n",
              "       [161.67969 ],\n",
              "       [167.85956 ],\n",
              "       [173.11464 ],\n",
              "       [175.81798 ],\n",
              "       [175.3393  ],\n",
              "       [174.97371 ],\n",
              "       [174.20648 ],\n",
              "       [174.08047 ],\n",
              "       [172.74895 ],\n",
              "       [171.57922 ],\n",
              "       [170.47849 ],\n",
              "       [170.47888 ],\n",
              "       [171.66258 ],\n",
              "       [171.08371 ],\n",
              "       [169.76778 ],\n",
              "       [169.31836 ],\n",
              "       [168.90405 ],\n",
              "       [167.38756 ],\n",
              "       [166.54643 ],\n",
              "       [166.70743 ],\n",
              "       [168.9488  ],\n",
              "       [169.23834 ],\n",
              "       [165.9448  ],\n",
              "       [159.91747 ],\n",
              "       [159.33493 ],\n",
              "       [169.19215 ],\n",
              "       [186.66808 ],\n",
              "       [196.86578 ],\n",
              "       [197.04903 ],\n",
              "       [193.73235 ],\n",
              "       [189.53764 ],\n",
              "       [190.9485  ],\n",
              "       [193.62912 ],\n",
              "       [193.41978 ],\n",
              "       [189.91125 ],\n",
              "       [190.80415 ],\n",
              "       [195.32065 ],\n",
              "       [198.08553 ],\n",
              "       [195.1826  ],\n",
              "       [192.98376 ],\n",
              "       [198.86397 ],\n",
              "       [205.7989  ],\n",
              "       [207.71886 ],\n",
              "       [206.7203  ],\n",
              "       [207.60236 ],\n",
              "       [207.0571  ],\n",
              "       [207.7859  ],\n",
              "       [208.29364 ],\n",
              "       [209.49    ],\n",
              "       [212.08188 ],\n",
              "       [212.37547 ],\n",
              "       [209.99547 ],\n",
              "       [202.0911  ],\n",
              "       [194.05408 ],\n",
              "       [196.46031 ],\n",
              "       [200.06436 ],\n",
              "       [201.92143 ],\n",
              "       [203.29587 ],\n",
              "       [204.76903 ],\n",
              "       [204.77939 ],\n",
              "       [206.23926 ],\n",
              "       [208.04303 ],\n",
              "       [207.70671 ],\n",
              "       [206.23947 ],\n",
              "       [206.05057 ],\n",
              "       [208.33496 ],\n",
              "       [209.26408 ],\n",
              "       [207.83931 ],\n",
              "       [206.79471 ],\n",
              "       [205.32002 ],\n",
              "       [203.0836  ],\n",
              "       [201.03763 ],\n",
              "       [204.13579 ],\n",
              "       [205.98631 ],\n",
              "       [207.14641 ],\n",
              "       [213.70601 ],\n",
              "       [223.2796  ],\n",
              "       [227.28444 ],\n",
              "       [225.28789 ],\n",
              "       [221.76465 ],\n",
              "       [220.1553  ],\n",
              "       [225.91507 ],\n",
              "       [225.61972 ],\n",
              "       [219.91318 ],\n",
              "       [226.28593 ],\n",
              "       [234.17387 ],\n",
              "       [233.22298 ],\n",
              "       [235.40369 ],\n",
              "       [243.00276 ],\n",
              "       [247.79846 ],\n",
              "       [251.04242 ],\n",
              "       [261.26474 ],\n",
              "       [267.01233 ],\n",
              "       [264.65826 ],\n",
              "       [261.22037 ],\n",
              "       [263.48737 ],\n",
              "       [265.59216 ],\n",
              "       [270.9151  ],\n",
              "       [269.54813 ],\n",
              "       [269.6554  ],\n",
              "       [269.9533  ],\n",
              "       [266.52408 ],\n",
              "       [264.31915 ],\n",
              "       [262.19135 ],\n",
              "       [267.2388  ],\n",
              "       [275.29205 ],\n",
              "       [283.76974 ],\n",
              "       [279.12848 ],\n",
              "       [269.41342 ],\n",
              "       [267.08206 ],\n",
              "       [271.84384 ],\n",
              "       [276.83475 ],\n",
              "       [283.44955 ],\n",
              "       [286.70816 ],\n",
              "       [285.15924 ],\n",
              "       [284.7413  ],\n",
              "       [287.75473 ],\n",
              "       [288.884   ],\n",
              "       [287.95074 ],\n",
              "       [293.6885  ],\n",
              "       [296.1617  ],\n",
              "       [292.31708 ],\n",
              "       [289.507   ],\n",
              "       [291.1736  ],\n",
              "       [293.35165 ],\n",
              "       [296.19818 ],\n",
              "       [295.99078 ],\n",
              "       [293.77707 ],\n",
              "       [292.5107  ],\n",
              "       [301.03543 ],\n",
              "       [305.20935 ],\n",
              "       [297.7392  ],\n",
              "       [290.39026 ],\n",
              "       [285.60474 ],\n",
              "       [286.70056 ],\n",
              "       [289.568   ],\n",
              "       [289.29898 ],\n",
              "       [286.31134 ],\n",
              "       [285.5426  ],\n",
              "       [285.34308 ],\n",
              "       [286.35992 ],\n",
              "       [278.44263 ],\n",
              "       [270.68985 ],\n",
              "       [262.26736 ],\n",
              "       [258.38922 ],\n",
              "       [255.99992 ],\n",
              "       [264.42203 ],\n",
              "       [272.68918 ],\n",
              "       [271.2103  ],\n",
              "       [271.2231  ],\n",
              "       [272.1747  ],\n",
              "       [269.57605 ],\n",
              "       [264.13492 ],\n",
              "       [256.96152 ],\n",
              "       [251.25346 ],\n",
              "       [253.16862 ],\n",
              "       [254.52832 ],\n",
              "       [258.66052 ],\n",
              "       [263.9677  ],\n",
              "       [266.55524 ],\n",
              "       [265.9956  ],\n",
              "       [264.3469  ],\n",
              "       [264.11053 ],\n",
              "       [263.47263 ],\n",
              "       [259.04028 ],\n",
              "       [258.88464 ],\n",
              "       [258.73566 ],\n",
              "       [262.47406 ],\n",
              "       [267.1755  ],\n",
              "       [268.3582  ],\n",
              "       [267.6137  ],\n",
              "       [262.65958 ],\n",
              "       [251.68959 ],\n",
              "       [247.2801  ],\n",
              "       [251.47343 ],\n",
              "       [252.57916 ],\n",
              "       [249.25429 ],\n",
              "       [250.54646 ],\n",
              "       [255.65062 ],\n",
              "       [254.46133 ],\n",
              "       [261.58218 ],\n",
              "       [268.23373 ],\n",
              "       [264.37308 ],\n",
              "       [259.83014 ],\n",
              "       [260.28494 ],\n",
              "       [265.39944 ],\n",
              "       [266.0561  ],\n",
              "       [262.05347 ],\n",
              "       [260.0802  ],\n",
              "       [262.5689  ],\n",
              "       [267.32874 ],\n",
              "       [269.61444 ],\n",
              "       [270.84256 ],\n",
              "       [272.77753 ],\n",
              "       [273.68387 ],\n",
              "       [271.17123 ],\n",
              "       [268.5992  ],\n",
              "       [272.3782  ],\n",
              "       [277.59088 ],\n",
              "       [278.66608 ],\n",
              "       [280.52396 ],\n",
              "       [279.3353  ],\n",
              "       [272.98743 ],\n",
              "       [270.11975 ],\n",
              "       [276.25256 ],\n",
              "       [278.1793  ],\n",
              "       [276.338   ],\n",
              "       [271.44153 ],\n",
              "       [271.0181  ],\n",
              "       [252.9517  ],\n",
              "       [229.64835 ],\n",
              "       [224.6209  ],\n",
              "       [238.00621 ],\n",
              "       [245.46268 ],\n",
              "       [240.8225  ],\n",
              "       [238.72774 ],\n",
              "       [244.64488 ],\n",
              "       [251.69966 ],\n",
              "       [253.95097 ],\n",
              "       [253.61119 ],\n",
              "       [251.15468 ],\n",
              "       [253.5815  ],\n",
              "       [259.5957  ],\n",
              "       [257.7303  ],\n",
              "       [247.2062  ],\n",
              "       [247.10632 ],\n",
              "       [255.48845 ],\n",
              "       [259.99487 ],\n",
              "       [257.67145 ],\n",
              "       [253.21664 ],\n",
              "       [254.94925 ],\n",
              "       [259.86346 ],\n",
              "       [266.2477  ],\n",
              "       [264.70697 ],\n",
              "       [262.18442 ],\n",
              "       [257.58652 ],\n",
              "       [250.88377 ],\n",
              "       [246.48169 ],\n",
              "       [249.46664 ],\n",
              "       [255.28534 ],\n",
              "       [258.82748 ],\n",
              "       [257.5855  ],\n",
              "       [254.68394 ],\n",
              "       [257.4381  ],\n",
              "       [257.89526 ],\n",
              "       [265.6189  ],\n",
              "       [269.84668 ],\n",
              "       [263.42456 ],\n",
              "       [254.10397 ],\n",
              "       [258.00372 ],\n",
              "       [265.36493 ],\n",
              "       [262.41376 ],\n",
              "       [253.50095 ],\n",
              "       [247.08641 ],\n",
              "       [237.63469 ],\n",
              "       [235.35759 ],\n",
              "       [233.91328 ],\n",
              "       [229.07274 ],\n",
              "       [229.82553 ],\n",
              "       [237.43452 ],\n",
              "       [244.01234 ],\n",
              "       [238.27437 ],\n",
              "       [231.784   ],\n",
              "       [234.23619 ],\n",
              "       [239.06119 ],\n",
              "       [241.92424 ],\n",
              "       [234.60188 ],\n",
              "       [227.35234 ],\n",
              "       [227.0343  ],\n",
              "       [232.99872 ],\n",
              "       [235.2867  ],\n",
              "       [232.10791 ],\n",
              "       [230.1884  ],\n",
              "       [229.37585 ],\n",
              "       [229.59608 ],\n",
              "       [231.6617  ],\n",
              "       [234.26111 ],\n",
              "       [237.23772 ],\n",
              "       [239.6797  ],\n",
              "       [237.26526 ],\n",
              "       [230.76888 ],\n",
              "       [224.81738 ],\n",
              "       [227.51802 ],\n",
              "       [230.53134 ],\n",
              "       [230.26068 ],\n",
              "       [229.78868 ],\n",
              "       [229.68869 ],\n",
              "       [231.25227 ],\n",
              "       [224.69923 ],\n",
              "       [216.79897 ],\n",
              "       [214.7659  ],\n",
              "       [218.47998 ],\n",
              "       [220.8011  ],\n",
              "       [216.22925 ],\n",
              "       [215.45602 ],\n",
              "       [225.85365 ],\n",
              "       [236.10115 ],\n",
              "       [235.66931 ],\n",
              "       [229.89662 ],\n",
              "       [227.5317  ],\n",
              "       [228.39505 ],\n",
              "       [230.50719 ],\n",
              "       [229.90784 ]], dtype=float32)"
            ]
          },
          "metadata": {},
          "execution_count": 24
        }
      ]
    },
    {
      "cell_type": "markdown",
      "source": [
        "# ***Performance Metrics***"
      ],
      "metadata": {
        "id": "MjcX4MXAtRlt"
      }
    },
    {
      "cell_type": "markdown",
      "source": [
        "# **Mean Square error**"
      ],
      "metadata": {
        "id": "vsQZrk5GtQz6"
      }
    },
    {
      "cell_type": "code",
      "source": [
        "mse = math.sqrt(mean_squared_error(y_test, predictions))\n",
        "print(\"The Mean Squared Error for above model is:\", mse)"
      ],
      "metadata": {
        "colab": {
          "base_uri": "https://localhost:8080/"
        },
        "id": "jRl2ZgGgtC6d",
        "outputId": "43dea16e-ee01-4df7-ccd8-b1f6d0cc586a"
      },
      "execution_count": 27,
      "outputs": [
        {
          "output_type": "stream",
          "name": "stdout",
          "text": [
            "The Mean Squared Error for above model is: 0.03740481411180164\n"
          ]
        }
      ]
    },
    {
      "cell_type": "markdown",
      "source": [
        "# **Thank You**"
      ],
      "metadata": {
        "id": "Ur7wbTeAtqAj"
      }
    }
  ]
}